{
 "cells": [
  {
   "cell_type": "markdown",
   "metadata": {},
   "source": [
    "<div style=\"background: #F2EDD8; color: #5D4C46; font-family: monospace\">\n",
    "  <h1>NASA Direct-STEM: Summer Workshop</h1>\n",
    "  <h2>Author(s): Isaac Cano, Ricky Vargas</h2>\n",
    "  <h3>Advisor: Dr. Jiang Guo - Department: Computer Science</h3>\n",
    "</div>"
   ]
  },
  {
   "cell_type": "markdown",
   "metadata": {},
   "source": [
    "<div style=\"background: #F2EDD8; color: #5D4C46; font-family: monospace\">\n",
    "  <h2>Day 1: Python Basics</h2>\n",
    "</div>\n",
    "\n",
    "<img\n",
    "  src=\"./assets/python.gif\"\n",
    "  style=\"margin-left: 5px; margin-top: 2px; height: 300px; width: 500px\"\n",
    "  alt=\"python-snek\"\n",
    "/>"
   ]
  },
  {
   "cell_type": "markdown",
   "metadata": {},
   "source": [
    "<div style=\"background: #F2EDD8; color: #5D4C46; font-family: monospace\">\n",
    "  <h3>Data Types: Numbers (Integers, Floating-Points), Strings, and Booleans</h3>\n",
    "</div>"
   ]
  },
  {
   "cell_type": "code",
   "execution_count": 25,
   "metadata": {},
   "outputs": [
    {
     "data": {
      "text/plain": [
       "10"
      ]
     },
     "execution_count": 25,
     "metadata": {},
     "output_type": "execute_result"
    }
   ],
   "source": [
    "# Sets random_variable_name to 5\n",
    "random_variable_name = 5\n",
    "\n",
    "# Variable name can be whatever you want\n",
    "# But don't make it confusing like below\n",
    "six = 5\n",
    "\n",
    "# We can add the two variables together\n",
    "random_variable_name + six # expect to get 10"
   ]
  },
  {
   "cell_type": "code",
   "execution_count": 26,
   "metadata": {},
   "outputs": [
    {
     "data": {
      "text/plain": [
       "0.5"
      ]
     },
     "execution_count": 26,
     "metadata": {},
     "output_type": "execute_result"
    }
   ],
   "source": [
    "# Sets another_random_variable to 2.5\n",
    "another_random_variable = 2.5\n",
    "\n",
    "# Sets one_more_variable to 2\n",
    "one_more_variable = 2\n",
    "\n",
    "# We also have other operations like Subtraction, Multiplication, and Division\n",
    "another_random_variable - one_more_variable"
   ]
  },
  {
   "cell_type": "markdown",
   "metadata": {},
   "source": [
    "<div style=\"background: #F2EDD8; color: #5D4C46; font-family: monospace\">\n",
    "  <h4>Math Operations: Addition, Subtraction, Multiplication, and Division</h4>\n",
    "</div>"
   ]
  },
  {
   "cell_type": "code",
   "execution_count": 27,
   "metadata": {},
   "outputs": [
    {
     "name": "stdout",
     "output_type": "stream",
     "text": [
      "0.027999999999999997\n",
      "54.0\n",
      "-10\n",
      "11\n"
     ]
    }
   ],
   "source": [
    "print(0.7 / 25)\n",
    "print(10 * 5.4)\n",
    "print(13 - 23)\n",
    "print(5 + 6)"
   ]
  },
  {
   "cell_type": "markdown",
   "metadata": {},
   "source": [
    "<div style=\"background: #F2EDD8; color: #5D4C46; font-family: monospace\">\n",
    "  <h4>Other Math Operations: Modulo (mod) and Integer Division</h4>\n",
    "</div>"
   ]
  },
  {
   "cell_type": "code",
   "execution_count": 35,
   "metadata": {},
   "outputs": [
    {
     "data": {
      "text/plain": [
       "1"
      ]
     },
     "execution_count": 35,
     "metadata": {},
     "output_type": "execute_result"
    }
   ],
   "source": [
    "# Modulo gives the remainder\n",
    "# Ex: 15 % 2 = 1\n",
    "15 % 2\n",
    "# So how does it work?"
   ]
  },
  {
   "cell_type": "code",
   "execution_count": 34,
   "metadata": {},
   "outputs": [],
   "source": [
    "# Let's try:\n",
    "random_example1 = 19 % 27\n",
    "random_example2 = 90 % 12\n",
    "random_example3 = 70 % 7"
   ]
  },
  {
   "cell_type": "code",
   "execution_count": 39,
   "metadata": {},
   "outputs": [
    {
     "data": {
      "text/plain": [
       "2"
      ]
     },
     "execution_count": 39,
     "metadata": {},
     "output_type": "execute_result"
    }
   ],
   "source": [
    "# Integer Division is the opposite of the mod operation\n",
    "# Instead the remainder is dropped\n",
    "# Ex: 5 // 2 = 2 and not 2.5\n",
    "5 // 2\n",
    "# So how does it work?"
   ]
  },
  {
   "cell_type": "code",
   "execution_count": 41,
   "metadata": {},
   "outputs": [],
   "source": [
    "# Let's try:\n",
    "random_example4 = 20 // 3\n",
    "random_example5 = 25 // 9\n",
    "random_example6 = 70 // 36"
   ]
  },
  {
   "cell_type": "markdown",
   "metadata": {},
   "source": [
    "<div style=\"background: #F2EDD8; color: #5D4C46; font-family: monospace\">\n",
    "  <h4>Strings and Other String Operations</h4>\n",
    "</div>"
   ]
  },
  {
   "cell_type": "code",
   "execution_count": 49,
   "metadata": {},
   "outputs": [
    {
     "name": "stdout",
     "output_type": "stream",
     "text": [
      "Hello, I am a String constructed with double quotes\n",
      "Hello, I am a String constructed with single quotes\n"
     ]
    }
   ],
   "source": [
    "# Strings can be instantiated with single or double quotes\n",
    "# No difference it's all preference\n",
    "one_random_string = \"Hello, I am a String constructed with double quotes\"\n",
    "print(one_random_string)\n",
    "another_random_string = 'Hello, I am a String constructed with single quotes'\n",
    "print(another_random_string)"
   ]
  },
  {
   "cell_type": "code",
   "execution_count": 52,
   "metadata": {},
   "outputs": [
    {
     "name": "stdout",
     "output_type": "stream",
     "text": [
      "H\n",
      "I\n"
     ]
    }
   ],
   "source": [
    "# Accessing a character inside a string\n",
    "# Everything in python is zero indexed\n",
    "print(one_random_string[0]) # returns H\n",
    "print(one_random_string[7]) # returns I"
   ]
  },
  {
   "cell_type": "code",
   "execution_count": 54,
   "metadata": {},
   "outputs": [
    {
     "name": "stdout",
     "output_type": "stream",
     "text": [
      "Hello\n",
      "Hlo  maSrn osrce ihsnl uts\n"
     ]
    }
   ],
   "source": [
    "# Accessing multiple characters inside a string\n",
    "# another_random_string[start:end:step]\n",
    "# by default step is equal to 1\n",
    "print(another_random_string[0:5]) # returns Hello\n",
    "print(another_random_string[::2]) # Hlo  maSrn osrce ihsnl uts"
   ]
  },
  {
   "cell_type": "markdown",
   "metadata": {},
   "source": [
    "<img\n",
    "  src=\"./assets/catattack.gif\"\n",
    "  style=\"margin-left: 5px; margin-top: 2px\"\n",
    "  alt=\"naked-cat\"\n",
    "/>\n"
   ]
  },
  {
   "cell_type": "code",
   "execution_count": null,
   "metadata": {},
   "outputs": [],
   "source": []
  },
  {
   "cell_type": "code",
   "execution_count": null,
   "metadata": {},
   "outputs": [],
   "source": []
  }
 ],
 "metadata": {
  "kernelspec": {
   "display_name": "Python 3",
   "language": "python",
   "name": "python3"
  },
  "language_info": {
   "codemirror_mode": {
    "name": "ipython",
    "version": 3
   },
   "file_extension": ".py",
   "mimetype": "text/x-python",
   "name": "python",
   "nbconvert_exporter": "python",
   "pygments_lexer": "ipython3",
   "version": "3.7.3"
  }
 },
 "nbformat": 4,
 "nbformat_minor": 2
}
