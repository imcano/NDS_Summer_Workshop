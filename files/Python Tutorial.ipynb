{
 "cells": [
  {
   "cell_type": "markdown",
   "metadata": {},
   "source": [
    "<div style=\"background: #F2EDD8; color: #5D4C46; font-family: monospace\">\n",
    "  <h1>NASA Direct-STEM: Summer Workshop</h1>\n",
    "  <h2>Author(s): Isaac Cano, Ricky Vargas</h2>\n",
    "  <h3>Advisor: Dr. Jiang Guo - Department: Computer Science</h3>\n",
    "</div>"
   ]
  },
  {
   "cell_type": "markdown",
   "metadata": {},
   "source": [
    "<div style=\"background: #F2EDD8; color: #5D4C46; font-family: monospace\">\n",
    "  <h2>Day 1: Python Basics</h2>\n",
    "</div>\n",
    "\n",
    "<img\n",
    "  src=\"./assets/python.gif\"\n",
    "  style=\"margin-left: 5px; margin-top: 2px; height: 300px; width: 500px\"\n",
    "  alt=\"python-snek\"\n",
    "/>"
   ]
  },
  {
   "cell_type": "markdown",
   "metadata": {},
   "source": [
    "<div style=\"background: #F2EDD8; color: #5D4C46; font-family: monospace\">\n",
    "  <h3>Data Types: Numbers (Integers, Floating-Points), Strings, and Booleans</h3>\n",
    "</div>"
   ]
  },
  {
   "cell_type": "code",
   "execution_count": 65,
   "metadata": {},
   "outputs": [
    {
     "data": {
      "text/plain": [
       "10"
      ]
     },
     "execution_count": 65,
     "metadata": {},
     "output_type": "execute_result"
    }
   ],
   "source": [
    "# Sets random_variable_name to 5\n",
    "random_variable_name = 5\n",
    "\n",
    "# Variable name can be whatever you want\n",
    "# But don't make it confusing like below\n",
    "six = 5\n",
    "\n",
    "# We can add the two variables together\n",
    "random_variable_name + six # expect to get 10"
   ]
  },
  {
   "cell_type": "code",
   "execution_count": 66,
   "metadata": {},
   "outputs": [
    {
     "data": {
      "text/plain": [
       "0.5"
      ]
     },
     "execution_count": 66,
     "metadata": {},
     "output_type": "execute_result"
    }
   ],
   "source": [
    "# Sets another_random_variable to 2.5\n",
    "another_random_variable = 2.5\n",
    "\n",
    "# Sets one_more_variable to 2\n",
    "one_more_variable = 2\n",
    "\n",
    "# We also have other operations like Subtraction, Multiplication, and Division\n",
    "another_random_variable - one_more_variable"
   ]
  },
  {
   "cell_type": "markdown",
   "metadata": {},
   "source": [
    "<div style=\"background: #F2EDD8; color: #5D4C46; font-family: monospace\">\n",
    "  <h4>Math Operations: Addition, Subtraction, Multiplication, and Division</h4>\n",
    "</div>"
   ]
  },
  {
   "cell_type": "code",
   "execution_count": 67,
   "metadata": {},
   "outputs": [
    {
     "name": "stdout",
     "output_type": "stream",
     "text": [
      "0.027999999999999997\n",
      "54.0\n",
      "-10\n",
      "11\n"
     ]
    }
   ],
   "source": [
    "print(0.7 / 25)\n",
    "print(10 * 5.4)\n",
    "print(13 - 23)\n",
    "print(5 + 6)"
   ]
  },
  {
   "cell_type": "markdown",
   "metadata": {},
   "source": [
    "<div style=\"background: #F2EDD8; color: #5D4C46; font-family: monospace\">\n",
    "  <h4>Other Math Operations: Modulo (mod) and Integer Division</h4>\n",
    "</div>"
   ]
  },
  {
   "cell_type": "code",
   "execution_count": 68,
   "metadata": {},
   "outputs": [
    {
     "data": {
      "text/plain": [
       "1"
      ]
     },
     "execution_count": 68,
     "metadata": {},
     "output_type": "execute_result"
    }
   ],
   "source": [
    "# Modulo gives the remainder\n",
    "# Ex: 15 % 2 = 1\n",
    "15 % 2\n",
    "# So how does it work?"
   ]
  },
  {
   "cell_type": "code",
   "execution_count": 69,
   "metadata": {},
   "outputs": [],
   "source": [
    "# Let's try:\n",
    "random_example1 = 19 % 27\n",
    "random_example2 = 90 % 12\n",
    "random_example3 = 70 % 7"
   ]
  },
  {
   "cell_type": "code",
   "execution_count": 70,
   "metadata": {},
   "outputs": [
    {
     "data": {
      "text/plain": [
       "2"
      ]
     },
     "execution_count": 70,
     "metadata": {},
     "output_type": "execute_result"
    }
   ],
   "source": [
    "# Integer Division is the opposite of the mod operation\n",
    "# Instead the remainder is dropped\n",
    "# Ex: 5 // 2 = 2 and not 2.5\n",
    "5 // 2\n",
    "# So how does it work?"
   ]
  },
  {
   "cell_type": "code",
   "execution_count": 71,
   "metadata": {},
   "outputs": [],
   "source": [
    "# Let's try:\n",
    "random_example4 = 20 // 3\n",
    "random_example5 = 25 // 9\n",
    "random_example6 = 70 // 36"
   ]
  },
  {
   "cell_type": "markdown",
   "metadata": {},
   "source": [
    "<div style=\"background: #F2EDD8; color: #5D4C46; font-family: monospace\">\n",
    "  <h4>Strings and Other String Operations</h4>\n",
    "</div>"
   ]
  },
  {
   "cell_type": "code",
   "execution_count": 72,
   "metadata": {},
   "outputs": [
    {
     "name": "stdout",
     "output_type": "stream",
     "text": [
      "Hello, I am a String constructed with double quotes\n",
      "Hello, I am a String constructed with single quotes\n"
     ]
    }
   ],
   "source": [
    "# Strings can be instantiated with single or double quotes\n",
    "# No difference it's all preference\n",
    "one_random_string = \"Hello, I am a String constructed with double quotes\"\n",
    "print(one_random_string)\n",
    "another_random_string = 'Hello, I am a String constructed with single quotes'\n",
    "print(another_random_string)"
   ]
  },
  {
   "cell_type": "code",
   "execution_count": 73,
   "metadata": {},
   "outputs": [
    {
     "name": "stdout",
     "output_type": "stream",
     "text": [
      "H\n",
      "I\n"
     ]
    }
   ],
   "source": [
    "# Accessing a character inside a string\n",
    "# Everything in python is zero indexed\n",
    "print(one_random_string[0]) # returns H\n",
    "print(one_random_string[7]) # returns I"
   ]
  },
  {
   "cell_type": "code",
   "execution_count": 74,
   "metadata": {},
   "outputs": [
    {
     "name": "stdout",
     "output_type": "stream",
     "text": [
      "Hello\n",
      "Hlo  maSrn osrce ihsnl uts\n"
     ]
    }
   ],
   "source": [
    "# Accessing multiple characters inside a string\n",
    "# another_random_string[start:end:step]\n",
    "# by default step is equal to 1\n",
    "print(another_random_string[0:5]) # returns Hello\n",
    "print(another_random_string[::2]) # Hlo  maSrn osrce ihsnl uts"
   ]
  },
  {
   "cell_type": "code",
   "execution_count": 75,
   "metadata": {},
   "outputs": [
    {
     "name": "stdout",
     "output_type": "stream",
     "text": [
      "False\n",
      "True\n"
     ]
    }
   ],
   "source": [
    "# This 5 is an Integer\n",
    "fiveN = 5\n",
    "# This 5 is a String\n",
    "five = '5'\n",
    "# Here we use Double Equals to compare the two values  \n",
    "print(five == 5) #Comparing the String 5 with the Integer 5\n",
    "#They are different types so they are not the same resulting in false \n",
    "print(str(fiveN) == five)# Here we use a function named str which turns any Number into a string \n",
    "# once our Integer gets turned into a string and we compare it to our string 5 \n",
    "# We get the result true since both strings contain \"5\""
   ]
  },
  {
   "cell_type": "code",
   "execution_count": 76,
   "metadata": {},
   "outputs": [
    {
     "data": {
      "text/plain": [
       "False"
      ]
     },
     "execution_count": 76,
     "metadata": {},
     "output_type": "execute_result"
    }
   ],
   "source": [
    "7==9"
   ]
  },
  {
   "cell_type": "code",
   "execution_count": 77,
   "metadata": {},
   "outputs": [
    {
     "data": {
      "text/plain": [
       "True"
      ]
     },
     "execution_count": 77,
     "metadata": {},
     "output_type": "execute_result"
    }
   ],
   "source": [
    "(9%3) == 0"
   ]
  },
  {
   "cell_type": "code",
   "execution_count": 78,
   "metadata": {},
   "outputs": [
    {
     "data": {
      "text/plain": [
       "False"
      ]
     },
     "execution_count": 78,
     "metadata": {},
     "output_type": "execute_result"
    }
   ],
   "source": [
    "\"APPle\" == \"apple\""
   ]
  },
  {
   "cell_type": "code",
   "execution_count": 79,
   "metadata": {},
   "outputs": [
    {
     "data": {
      "text/plain": [
       "False"
      ]
     },
     "execution_count": 79,
     "metadata": {},
     "output_type": "execute_result"
    }
   ],
   "source": [
    "2.5 == '2.5'"
   ]
  },
  {
   "cell_type": "code",
   "execution_count": 80,
   "metadata": {},
   "outputs": [
    {
     "data": {
      "text/plain": [
       "True"
      ]
     },
     "execution_count": 80,
     "metadata": {},
     "output_type": "execute_result"
    }
   ],
   "source": [
    "'2.5' == str(2.5)"
   ]
  },
  {
   "cell_type": "markdown",
   "metadata": {},
   "source": [
    "<div style=\"background: #F2EDD8; color: #5D4C46; font-family: monospace\">\n",
    "  <h4>Conditional Statements</h4>\n",
    "</div>"
   ]
  },
  {
   "cell_type": "code",
   "execution_count": 81,
   "metadata": {},
   "outputs": [
    {
     "name": "stdout",
     "output_type": "stream",
     "text": [
      "Yay they are both apple\n"
     ]
    }
   ],
   "source": [
    "apple = \"apple\"\n",
    "if \"apple\" == apple:\n",
    "    print(\"Yay they are both apple\")"
   ]
  },
  {
   "cell_type": "code",
   "execution_count": 82,
   "metadata": {},
   "outputs": [
    {
     "name": "stdout",
     "output_type": "stream",
     "text": [
      "One says Apples the other says Apple\n"
     ]
    }
   ],
   "source": [
    "apples = \"apples\"\n",
    "if \"apple\" != apples:\n",
    "    print(\"One says Apples the other says Apple\")"
   ]
  },
  {
   "cell_type": "code",
   "execution_count": 83,
   "metadata": {},
   "outputs": [
    {
     "name": "stdout",
     "output_type": "stream",
     "text": [
      "One is false\n"
     ]
    }
   ],
   "source": [
    "boolean1 =  True\n",
    "boolean2 = False\n",
    "if boolean1 and boolean2:\n",
    "    print(\"They are both true\")\n",
    "else:\n",
    "    print(\"One is false\")"
   ]
  },
  {
   "cell_type": "code",
   "execution_count": 84,
   "metadata": {},
   "outputs": [
    {
     "name": "stdout",
     "output_type": "stream",
     "text": [
      "At least one is true\n"
     ]
    }
   ],
   "source": [
    "boolean1 =  True\n",
    "boolean2 = False\n",
    "if boolean1 or boolean2:\n",
    "    print(\"At least one is true\")"
   ]
  },
  {
   "cell_type": "code",
   "execution_count": 85,
   "metadata": {},
   "outputs": [
    {
     "name": "stdout",
     "output_type": "stream",
     "text": [
      "They are both true\n"
     ]
    }
   ],
   "source": [
    "boolean1 = True\n",
    "boolean2 = True\n",
    "if boolean1 and boolean2:\n",
    "    print(\"They are both true\")"
   ]
  },
  {
   "cell_type": "markdown",
   "metadata": {},
   "source": [
    "<div style=\"background: #F2EDD8; color: #5D4C46; font-family: monospace\">\n",
    "  <h4>Loops</h4>\n",
    "</div>"
   ]
  },
  {
   "cell_type": "code",
   "execution_count": 86,
   "metadata": {},
   "outputs": [
    {
     "name": "stdout",
     "output_type": "stream",
     "text": [
      "0\n",
      "1\n",
      "2\n",
      "3\n",
      "4\n"
     ]
    }
   ],
   "source": [
    "for i in range(5):\n",
    "    print(i)"
   ]
  },
  {
   "cell_type": "code",
   "execution_count": 87,
   "metadata": {},
   "outputs": [
    {
     "name": "stdout",
     "output_type": "stream",
     "text": [
      "abcdefghi\n"
     ]
    }
   ],
   "source": [
    "alphabet = ['a','b','c','d','e','f','g','h','i','j','k','l','m','n','o','p','q','r','s','t','u','v','w','x','y','z']\n",
    "st = \"\"\n",
    "for i in range(9):\n",
    "    st += alphabet[i] \n",
    "print(st)"
   ]
  },
  {
   "cell_type": "markdown",
   "metadata": {},
   "source": [
    "<div style=\"background: #F2EDD8; color: #5D4C46; font-family: monospace\">\n",
    "  <h4>List Comprehension</h4>\n",
    "</div>"
   ]
  },
  {
   "cell_type": "code",
   "execution_count": 88,
   "metadata": {},
   "outputs": [
    {
     "data": {
      "text/plain": [
       "'apple'"
      ]
     },
     "execution_count": 88,
     "metadata": {},
     "output_type": "execute_result"
    }
   ],
   "source": [
    "str.lower(\"APPLE\")"
   ]
  },
  {
   "cell_type": "code",
   "execution_count": 89,
   "metadata": {},
   "outputs": [
    {
     "name": "stdout",
     "output_type": "stream",
     "text": [
      "['hello', 'world', 'in', 'python']\n"
     ]
    }
   ],
   "source": [
    "# A list of words \n",
    "list_a = [\"Hello\", \"World\", \"In\", \"Python\"]\n",
    "# This is a list comprehension what this does it applies the function we call to all of the string elements in the list_a\n",
    "small_list_a = [str.lower() for str in list_a]\n",
    "# it then saves the results into this new variable\n",
    "print(small_list_a) # Output: ['hello', 'world', 'in', 'python']"
   ]
  },
  {
   "cell_type": "code",
   "execution_count": 90,
   "metadata": {},
   "outputs": [
    {
     "name": "stdout",
     "output_type": "stream",
     "text": [
      "['apple', 'apple', 'banana']\n"
     ]
    }
   ],
   "source": [
    "list_a = [\"apple\", \"orange\", \"apple\", \"banana\"]\n",
    "list_b = [\"apple\", \"mango\", \"lemon\", \"banana\"]\n",
    "\n",
    "common_words = [a for a in list_a for b in list_b if a == b]\n",
    "\n",
    "print(common_words)"
   ]
  },
  {
   "cell_type": "code",
   "execution_count": 91,
   "metadata": {},
   "outputs": [
    {
     "data": {
      "text/plain": [
       "[1, 2, 4, 8, 16, 32, 64, 128, 256]"
      ]
     },
     "execution_count": 91,
     "metadata": {},
     "output_type": "execute_result"
    }
   ],
   "source": [
    "new_list = [2**x for x in range(9)]\n",
    "new_list"
   ]
  },
  {
   "cell_type": "markdown",
   "metadata": {},
   "source": [
    "<div style=\"background: #F2EDD8; color: #5D4C46; font-family: monospace\">\n",
    "  <h4>Dictionary</h4>\n",
    "</div>"
   ]
  },
  {
   "cell_type": "code",
   "execution_count": 92,
   "metadata": {},
   "outputs": [],
   "source": [
    "# Lets say we want some type of key value pair association \n",
    "# We can us a dictionary\n",
    "dictionary = {'apple': 1, 'banana': 2} # this can represent that we have 1 apple and 2 bananas"
   ]
  },
  {
   "cell_type": "code",
   "execution_count": 93,
   "metadata": {},
   "outputs": [
    {
     "data": {
      "text/plain": [
       "1"
      ]
     },
     "execution_count": 93,
     "metadata": {},
     "output_type": "execute_result"
    }
   ],
   "source": [
    "# one method of getting the value of a key\n",
    "dictionary.get(\"apple\")"
   ]
  },
  {
   "cell_type": "code",
   "execution_count": 94,
   "metadata": {},
   "outputs": [
    {
     "data": {
      "text/plain": [
       "2"
      ]
     },
     "execution_count": 94,
     "metadata": {},
     "output_type": "execute_result"
    }
   ],
   "source": [
    "# Second method of getting the value of a key\n",
    "dictionary[\"banana\"]"
   ]
  },
  {
   "cell_type": "code",
   "execution_count": 95,
   "metadata": {},
   "outputs": [
    {
     "data": {
      "text/plain": [
       "9"
      ]
     },
     "execution_count": 95,
     "metadata": {},
     "output_type": "execute_result"
    }
   ],
   "source": [
    "# this is how you set a new value to a key the get method doesnt allow for value change\n",
    "dictionary[\"apple\"] = 9\n",
    "dictionary[\"apple\"]"
   ]
  },
  {
   "cell_type": "code",
   "execution_count": 96,
   "metadata": {},
   "outputs": [
    {
     "name": "stdout",
     "output_type": "stream",
     "text": [
      "apple 9\n",
      "banana 2\n"
     ]
    }
   ],
   "source": [
    "#Here we will be printing out the key value pairs that exist in the dictionary\n",
    "for key, value in dictionary.items():\n",
    "    print(key, value)"
   ]
  },
  {
   "cell_type": "code",
   "execution_count": 97,
   "metadata": {},
   "outputs": [],
   "source": [
    "# Lets say we want to add a new key value pair after creation its very easy cause its the same way of changing the value\n",
    "dictionary[\"orange\"] = 6"
   ]
  },
  {
   "cell_type": "code",
   "execution_count": 98,
   "metadata": {},
   "outputs": [
    {
     "name": "stdout",
     "output_type": "stream",
     "text": [
      "apple 9\n",
      "banana 2\n",
      "orange 6\n"
     ]
    }
   ],
   "source": [
    "#lets print it out again to see oranges added in\n",
    "for key, value in dictionary.items():\n",
    "    print(key, value)"
   ]
  },
  {
   "cell_type": "code",
   "execution_count": null,
   "metadata": {},
   "outputs": [],
   "source": []
  },
  {
   "cell_type": "markdown",
   "metadata": {},
   "source": [
    "<img\n",
    "  src=\"./assets/catattack.gif\"\n",
    "  style=\"margin-left: 5px; margin-top: 2px\"\n",
    "  alt=\"naked-cat\"\n",
    "/>\n"
   ]
  },
  {
   "cell_type": "code",
   "execution_count": null,
   "metadata": {},
   "outputs": [],
   "source": []
  },
  {
   "cell_type": "code",
   "execution_count": null,
   "metadata": {},
   "outputs": [],
   "source": []
  }
 ],
 "metadata": {
  "kernelspec": {
   "display_name": "Python 3",
   "language": "python",
   "name": "python3"
  },
  "language_info": {
   "codemirror_mode": {
    "name": "ipython",
    "version": 3
   },
   "file_extension": ".py",
   "mimetype": "text/x-python",
   "name": "python",
   "nbconvert_exporter": "python",
   "pygments_lexer": "ipython3",
   "version": "3.7.3"
  }
 },
 "nbformat": 4,
 "nbformat_minor": 2
}
